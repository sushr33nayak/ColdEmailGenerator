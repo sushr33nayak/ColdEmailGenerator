{
 "cells": [
  {
   "cell_type": "code",
   "execution_count": 112,
   "id": "808f0367-c5e6-4f6c-8355-7becab8f6e77",
   "metadata": {},
   "outputs": [
    {
     "name": "stdout",
     "output_type": "stream",
     "text": [
      "The first president of India was Dr. Rajendra Prasad. He served as the president from January 26, 1950, to May 13, 1962.\n"
     ]
    }
   ],
   "source": [
    "from langchain_groq import ChatGroq\n",
    "\n",
    "llm = ChatGroq(\n",
    "    model=\"llama-3.3-70b-versatile\",\n",
    "    temperature=0,\n",
    "    groq_api_key='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',\n",
    "    timeout=None,\n",
    "    max_retries=2,\n",
    "    # other params...\n",
    ")\n",
    "response=llm.invoke(\"The first president of India was?\")\n",
    "print(response.content)"
   ]
  },
  {
   "cell_type": "code",
   "execution_count": 113,
   "id": "ff12f3b1-641d-4cce-ae52-2cb644167e37",
   "metadata": {},
   "outputs": [
    {
     "name": "stdout",
     "output_type": "stream",
     "text": [
      "\n",
      "\n",
      "\n",
      "\n",
      "\n",
      "\n",
      "\n",
      "\n",
      "\n",
      "\n",
      "\n",
      "\n",
      "\n",
      "\n",
      "\n",
      "\n",
      "\n",
      "\n",
      "\n",
      "\n",
      "\n",
      "\n",
      "\n"
     ]
    }
   ],
   "source": [
    "from langchain_community.document_loaders import WebBaseLoader\n",
    "loader=WebBaseLoader(\"https://q2ebanking.wd5.myworkdayjobs.com/en-US/Q2/job/Lead-Quality-Engineer_REQ-10605\")\n",
    "page_data=loader.load().pop().page_content\n",
    "print(page_data)"
   ]
  },
  {
   "cell_type": "code",
   "execution_count": 114,
   "id": "2160cb7e-33b1-475f-a0b8-c634e16c9087",
   "metadata": {},
   "outputs": [
    {
     "name": "stdout",
     "output_type": "stream",
     "text": [
      "```json\n",
      "{\n",
      "  \"role\": \"Software Engineer\",\n",
      "  \"experience\": \"2-5 years\",\n",
      "  \"skills\": [\"Python\", \"Java\", \"C++\"],\n",
      "  \"description\": \"We are seeking a highly skilled software engineer to join our team. The ideal candidate will have a strong background in computer science and experience with multiple programming languages.\"\n",
      "}\n",
      "```\n"
     ]
    }
   ],
   "source": [
    "from langchain_core.prompts import PromptTemplate\n",
    "prompt_extract=PromptTemplate.from_template(\n",
    "        \"\"\" SCRAPED TEXT FROM WEBSITE:\n",
    "        {page_data}\n",
    "        ###INSTRUCTION:\n",
    "        The scraped text is from the career's page of website.\n",
    "        Your job is to extract the job posting and return them in JSON format containing the following key:\n",
    "        'role','experience','skills', and 'description'.\n",
    "        Only return the valid JSON inside,remove all data outside the json object\n",
    "        Extract only forst object\n",
    "        ###VALID JSON(NO PREAMBLE):\n",
    "    \n",
    "            \"\"\"\n",
    ")\n",
    "chain_extract=prompt_extract|llm\n",
    "res=chain_extract.invoke(input={'page_data':page_data})\n",
    "print(res.content)"
   ]
  },
  {
   "cell_type": "code",
   "execution_count": 115,
   "id": "646d52e1-282f-4258-8266-e10754a667d1",
   "metadata": {},
   "outputs": [
    {
     "data": {
      "text/plain": [
       "{'role': 'Software Engineer',\n",
       " 'experience': '2-5 years',\n",
       " 'skills': ['Python', 'Java', 'C++'],\n",
       " 'description': 'We are seeking a highly skilled software engineer to join our team. The ideal candidate will have a strong background in computer science and experience with multiple programming languages.'}"
      ]
     },
     "execution_count": 115,
     "metadata": {},
     "output_type": "execute_result"
    }
   ],
   "source": [
    "from langchain_core.output_parsers import JsonOutputParser\n",
    "json_parser=JsonOutputParser()\n",
    "json_res=json_parser.parse(res.content)\n",
    "json_res"
   ]
  },
  {
   "cell_type": "code",
   "execution_count": 116,
   "id": "9e7e3c77-9fe3-40e5-902c-ceba11775a59",
   "metadata": {},
   "outputs": [
    {
     "data": {
      "text/plain": [
       "dict"
      ]
     },
     "execution_count": 116,
     "metadata": {},
     "output_type": "execute_result"
    }
   ],
   "source": [
    "type(json_res)"
   ]
  },
  {
   "cell_type": "code",
   "execution_count": 102,
   "id": "3e736bf0-5104-49f0-84fd-15d78373563e",
   "metadata": {},
   "outputs": [
    {
     "data": {
      "text/html": [
       "<div>\n",
       "<style scoped>\n",
       "    .dataframe tbody tr th:only-of-type {\n",
       "        vertical-align: middle;\n",
       "    }\n",
       "\n",
       "    .dataframe tbody tr th {\n",
       "        vertical-align: top;\n",
       "    }\n",
       "\n",
       "    .dataframe thead th {\n",
       "        text-align: right;\n",
       "    }\n",
       "</style>\n",
       "<table border=\"1\" class=\"dataframe\">\n",
       "  <thead>\n",
       "    <tr style=\"text-align: right;\">\n",
       "      <th></th>\n",
       "      <th>TechStack</th>\n",
       "      <th>Expertise</th>\n",
       "    </tr>\n",
       "  </thead>\n",
       "  <tbody>\n",
       "    <tr>\n",
       "      <th>0</th>\n",
       "      <td>Selenium+Java</td>\n",
       "      <td>10+ Years Extensive experience in Selenium wi...</td>\n",
       "    </tr>\n",
       "    <tr>\n",
       "      <th>1</th>\n",
       "      <td>API Testing,Postman,SoapUI</td>\n",
       "      <td>Strong experience of 8+ years in API testing, ...</td>\n",
       "    </tr>\n",
       "    <tr>\n",
       "      <th>2</th>\n",
       "      <td>API Automation</td>\n",
       "      <td>8+ years of extensive experience in API automa...</td>\n",
       "    </tr>\n",
       "    <tr>\n",
       "      <th>3</th>\n",
       "      <td>Mobile Testing,Mobile Automation,Appium</td>\n",
       "      <td>Developed Appium test scripts with Java, handl...</td>\n",
       "    </tr>\n",
       "    <tr>\n",
       "      <th>4</th>\n",
       "      <td>DevOps,Cloud, AWS,Azure</td>\n",
       "      <td>Worked on CI/CD pipeline integration for test ...</td>\n",
       "    </tr>\n",
       "    <tr>\n",
       "      <th>5</th>\n",
       "      <td>CI/CD,Jenkins,Gitlab,Git</td>\n",
       "      <td>Worked on configuring automated test execution...</td>\n",
       "    </tr>\n",
       "    <tr>\n",
       "      <th>6</th>\n",
       "      <td>Python and Pytest</td>\n",
       "      <td>Experience in  Python and Pytest for test auto...</td>\n",
       "    </tr>\n",
       "    <tr>\n",
       "      <th>7</th>\n",
       "      <td>SQL,MySQL,POSTGreSQL</td>\n",
       "      <td>Experience in writing complex queries, perform...</td>\n",
       "    </tr>\n",
       "    <tr>\n",
       "      <th>8</th>\n",
       "      <td>AI,LLM</td>\n",
       "      <td>I have recent experience in working with Large...</td>\n",
       "    </tr>\n",
       "  </tbody>\n",
       "</table>\n",
       "</div>"
      ],
      "text/plain": [
       "                                 TechStack  \\\n",
       "0                            Selenium+Java   \n",
       "1               API Testing,Postman,SoapUI   \n",
       "2                           API Automation   \n",
       "3  Mobile Testing,Mobile Automation,Appium   \n",
       "4                  DevOps,Cloud, AWS,Azure   \n",
       "5                CI/CD,Jenkins,Gitlab,Git    \n",
       "6                        Python and Pytest   \n",
       "7                     SQL,MySQL,POSTGreSQL   \n",
       "8                                   AI,LLM   \n",
       "\n",
       "                                           Expertise  \n",
       "0   10+ Years Extensive experience in Selenium wi...  \n",
       "1  Strong experience of 8+ years in API testing, ...  \n",
       "2  8+ years of extensive experience in API automa...  \n",
       "3  Developed Appium test scripts with Java, handl...  \n",
       "4  Worked on CI/CD pipeline integration for test ...  \n",
       "5  Worked on configuring automated test execution...  \n",
       "6  Experience in  Python and Pytest for test auto...  \n",
       "7  Experience in writing complex queries, perform...  \n",
       "8  I have recent experience in working with Large...  "
      ]
     },
     "execution_count": 102,
     "metadata": {},
     "output_type": "execute_result"
    }
   ],
   "source": [
    "import pandas as pd\n",
    "df=pd.read_csv(\"skills.csv\")\n",
    "df"
   ]
  },
  {
   "cell_type": "code",
   "execution_count": 117,
   "id": "61a8ab2c-c1d8-4d3d-aa27-ab962a2b9f2e",
   "metadata": {},
   "outputs": [],
   "source": [
    "import uuid\n",
    "import chromadb\n",
    "client=chromadb.PersistentClient('vectorstoreNew')\n",
    "collection=client.get_or_create_collection(name='portfolio')\n",
    "\n",
    "if not collection.count():\n",
    "    for _,row in df.iterrows():\n",
    "        collection.add(documents=row[\"TechStack\"],\n",
    "                       metadatas={\"Expertise\":row[\"Expertise\"]},\n",
    "                       ids=[str(uuid.uuid4())])"
   ]
  },
  {
   "cell_type": "code",
   "execution_count": 118,
   "id": "5c3f9ee0-84da-459a-9373-5575bdb7db48",
   "metadata": {},
   "outputs": [
    {
     "data": {
      "text/plain": [
       "['Python', 'Java', 'C++']"
      ]
     },
     "execution_count": 118,
     "metadata": {},
     "output_type": "execute_result"
    }
   ],
   "source": [
    "job=json_res\n",
    "job['skills']"
   ]
  },
  {
   "cell_type": "code",
   "execution_count": 119,
   "id": "2bb91593-302a-41d1-8d96-3f234bed1a2d",
   "metadata": {},
   "outputs": [
    {
     "data": {
      "text/plain": [
       "[[{'Expertise': 'Experience in  Python and Pytest for test automation, specializing in API and backend testing. My  expertise includes writing scalable test scripts, implementing fixtures, parameterization, integrating with CI/CD pipelines'}],\n",
       " [{'Expertise': ' 10+ Years Extensive experience in Selenium with Java, specializing in designing scalable automation frameworks using POM, Data-Driven, and Hybrid approaches.'}],\n",
       " [{'Expertise': 'I have recent experience in working with Large Language Models (LLMs) to create apps for automated email generation. This includes designing and implementing solutions that use LLMs to generate contextually relevant emails'}]]"
      ]
     },
     "execution_count": 119,
     "metadata": {},
     "output_type": "execute_result"
    }
   ],
   "source": [
    "links=collection.query(query_texts=job['skills'],n_results=1).get('metadatas')\n",
    "links"
   ]
  },
  {
   "cell_type": "code",
   "execution_count": 120,
   "id": "417fae35-52e5-4efe-ae71-df0c726e4475",
   "metadata": {},
   "outputs": [
    {
     "name": "stdout",
     "output_type": "stream",
     "text": [
      "Subject: Expert Automation Tester for Software Engineer Role\n",
      "\n",
      "Dear Hiring Manager,\n",
      "\n",
      "I am excited to apply for the Software Engineer position at your esteemed organization, bringing 11+ years of experience in test automation to the table. As a seasoned test automation engineer at Boeing, I am confident that my skills and expertise can fulfill your needs for automation testing.\n",
      "\n",
      "With a strong background in computer science and experience with multiple programming languages, I am well-equipped to handle the responsibilities of this role. My expertise includes designing and implementing test automation strategies across web, mobile, and cloud-based applications. I am skilled in Python and Pytest for test automation, specializing in API and backend testing, with a focus on writing scalable test scripts, implementing fixtures, parameterization, and integrating with CI/CD pipelines.\n",
      "\n",
      "In addition to my Python expertise, I also have extensive experience in Selenium with Java, specializing in designing scalable automation frameworks using POM, Data-Driven, and Hybrid approaches. This experience has allowed me to develop a unique understanding of software development and testing, enabling me to collaborate effectively with cross-functional teams.\n",
      "\n",
      "As a forward-thinking professional, I am currently enhancing my skills in Large Language Models (LLMs) and have recent experience in working with LLMs to create innovative solutions. I am excited about the prospect of bringing my expertise to your organization and contributing to the development of cutting-edge software solutions.\n",
      "\n",
      "I would welcome the opportunity to discuss my application and how my skills align with your requirements. Please feel free to contact me at your convenience.\n",
      "\n",
      "Thank you for considering my application. I look forward to the opportunity to discuss this further.\n",
      "\n",
      "Best regards,\n",
      "Sushree\n",
      "Senior Automation Test Engineer, Boeing\n"
     ]
    }
   ],
   "source": [
    "\n",
    "prompt_email=PromptTemplate.from_template(\n",
    "        \"\"\"\n",
    "        ### JOB Description:\n",
    "        {job_description}\n",
    "        \n",
    "        ###INSTRUCTION:\n",
    "        You are Sushree, a test automation engineer currently working with Boeing.You are a result driven automation tester with 11+ years of experience in\n",
    "        frontend and backend test automation,mobile,performance and api testing.Skilled in designing and implementing test automation\n",
    "        stratergies across web,mobile and cloud based application.Currently enhancing your skills in LLM.\n",
    "        Your job is to write a cold email to the client regarding the job mentioned above in fulfiling their needs for automation tester recruitement.\n",
    "        Also add the most relevent once from the following expertise to showcase your experience: {links}\n",
    "        Remember you are Sushree, Senior Automation Test Engineer at Boeing.\n",
    "        Do not provide a preamble\n",
    "        ### EMAIL (NO PREAMBLE)\n",
    "            \"\"\"\n",
    ")\n",
    "chain_email=prompt_email|llm\n",
    "res=chain_email.invoke({\"job_description\":str(job),\"links\":links})\n",
    "print(res.content)"
   ]
  },
  {
   "cell_type": "code",
   "execution_count": null,
   "id": "862d9004-e1ce-4d5b-8cd1-758d14989b3a",
   "metadata": {},
   "outputs": [],
   "source": []
  }
 ],
 "metadata": {
  "kernelspec": {
   "display_name": "Python 3 (ipykernel)",
   "language": "python",
   "name": "python3"
  },
  "language_info": {
   "codemirror_mode": {
    "name": "ipython",
    "version": 3
   },
   "file_extension": ".py",
   "mimetype": "text/x-python",
   "name": "python",
   "nbconvert_exporter": "python",
   "pygments_lexer": "ipython3",
   "version": "3.13.2"
  }
 },
 "nbformat": 4,
 "nbformat_minor": 5
}
