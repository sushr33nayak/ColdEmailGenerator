{
 "cells": [
  {
   "cell_type": "code",
   "execution_count": 2,
   "id": "808f0367-c5e6-4f6c-8355-7becab8f6e77",
   "metadata": {},
   "outputs": [
    {
     "name": "stdout",
     "output_type": "stream",
     "text": [
      "The first president of India was Dr. Rajendra Prasad. He served as the president from January 26, 1950, to May 13, 1962.\n"
     ]
    }
   ],
   "source": [
    "from langchain_groq import ChatGroq\n",
    "\n",
    "llm = ChatGroq(\n",
    "    model=\"llama-3.3-70b-versatile\",\n",
    "    temperature=0,\n",
    "    groq_api_key='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',\n",
    "    timeout=None,\n",
    "    max_retries=2,\n",
    "    # other params...\n",
    ")\n",
    "response=llm.invoke(\"The first president of India was?\")\n",
    "print(response.content)"
   ]
  },
  {
   "cell_type": "code",
   "execution_count": 11,
   "id": "ff12f3b1-641d-4cce-ae52-2cb644167e37",
   "metadata": {},
   "outputs": [
    {
     "name": "stdout",
     "output_type": "stream",
     "text": [
      "\n",
      "\n",
      "\n",
      "Software Engineer - Python/PySpark/Data Engineer vacancy | R125543 | Maersk\n",
      "\n",
      "\n",
      " \n",
      "              Home\n",
      "             \n",
      "              Careers\n",
      "             \n",
      "              Vacancies\n",
      "             Share  \n",
      "      LinkedIn\n",
      "     \n",
      "      Facebook\n",
      "     \n",
      "      Twitter\n",
      "     \n",
      "      Email\n",
      "     Copy link \n",
      "      WeChat\n",
      "     Software Engineer - Python/PySpark/Data Engineer \n",
      "      Full time\n",
      "     \n",
      "      IN - Bangalore, More...\n",
      "     \n",
      "      Posted 23 Days Ago\n",
      "     Apply now\n",
      "       Opportunity The world is facing a climate emergency. At Maersk we see it as our obligation – as an industry leader in logistics and with the resources available to us – to do all we can to get to net zero operations as fast as possible and to help our customers decarbonize their global supply chains end to end.As a key player in an industry responsible for 3.5 billion tons of annual direct emissions, A.P. Moller - Maersk (Maersk) is committed to leading the decarbonization of logistics and taking responsibility to be part of the solution, enabling a green and just transition.Our Energy Transition technology team is at the heart of this work, using Advanced Technology and Development Techniques to rapidly develop and continuously deploy the systems we need to identify, track and reduce our emissions.Advanced TechnologyThis is a greenfield build, and our intent is to build a system that can rapidly make a difference now and that will still be relevant in 2040 and beyond.We are currently seeking Python and PySpark software engineers to enhance our ability to exploit Maestro 2.0 and in particular the Data Plane/ Pipe Dream.Advanced Development TechniquesWe run a continuous delivery pipeline which is currently deploying to production 20-30 times a day and the ability to work with our advanced development techniques is an essential part of the role.As a member of our team, you will pair daily with other software engineers using Extreme Programming (XP) methodologies, such as pair programming, test-driven development, and continuous integration and delivery.Our Team spans multiple geographies with a focus in Portugal, India and Copenhagen. We have developed methodologies to enable effective remote working and, although office facilities are available when needed or if you prefer the office environment, the norm is for people to work from home.We are looking for people with the following skills and approach to development:Have experience in the technologies we are using, ideally Python, PySpark, Great Expectations and Data Plane/ Pipe Dream. Knowledge of functional programming in particular Elixir or aligned languages such as Erlang or Ruby is beneficial.Have knowledge of extreme programming practices/ values such as pair programming. A commitment to Test Driven Design is essential.Have relevant domain knowledge such as logistics, financial services, or energy. We are particularly interested in experience of quantitative modelling, energy trading and oil/ liquids/ green fuel commodities markets.Maersk is committed to a diverse and inclusive workplace, and we embrace different styles of thinking. Maersk is an equal opportunities employer and welcomes applicants without regard to race, colour, gender, sex, age, religion, creed, national origin, ancestry, citizenship, marital status, sexual orientation, physical or mental disability, medical condition, pregnancy or parental leave, veteran status, gender identity, genetic information, or any other characteristic protected by applicable law. We will consider qualified applicants with criminal histories in a manner consistent with all legal requirements. We are happy to support your need for any adjustments during the application and hiring process. If you need special assistance or an accommodation to use our website, apply for a position, or to perform a job, please contact us by emailing  accommodationrequests@maersk.com.  Additional info \n",
      "        Ref. R125543  A.P. Moller - Maersk is an integrated container logistics company working to connect and simplify its customer's supply chains. As the global leader in shipping services, the company operates in 130 countries and employs roughly 70,000 people. With simple end-to-end offering of products and digital services, seamless customer engagement and a superior end-to-end delivery network, Maersk enables its customers to trade and grow by transporting goods anywhere - all over the world.\n",
      "\n",
      "\n",
      "\n"
     ]
    }
   ],
   "source": [
    "from langchain_community.document_loaders import WebBaseLoader\n",
    "loader=WebBaseLoader(\"https://www.maersk.com/careers/vacancies/wd/Software-Engineer---Python-PySpark-Data-Engineer---Energy-Transition--Full-Remote-available-for-XP_R125543-1/jt-software-engineer-python-pyspark-data-engineer\")\n",
    "page_data=loader.load().pop().page_content\n",
    "print(page_data)"
   ]
  },
  {
   "cell_type": "code",
   "execution_count": 12,
   "id": "2160cb7e-33b1-475f-a0b8-c634e16c9087",
   "metadata": {},
   "outputs": [
    {
     "name": "stdout",
     "output_type": "stream",
     "text": [
      "```\n",
      "{\n",
      "  \"role\": \"Software Engineer - Python/PySpark/Data Engineer\",\n",
      "  \"experience\": \"Not specified\",\n",
      "  \"skills\": [\n",
      "    \"Python\",\n",
      "    \"PySpark\",\n",
      "    \"Great Expectations\",\n",
      "    \"Data Plane/ Pipe Dream\",\n",
      "    \"Elixir\",\n",
      "    \"Erlang\",\n",
      "    \"Ruby\",\n",
      "    \"Functional programming\",\n",
      "    \"Extreme programming practices\",\n",
      "    \"Test Driven Design\"\n",
      "  ],\n",
      "  \"description\": \"The world is facing a climate emergency. At Maersk we see it as our obligation – as an industry leader in logistics and with the resources available to us – to do all we can to get to net zero operations as fast as possible and to help our customers decarbonize their global supply chains end to end. Our Energy Transition technology team is at the heart of this work, using Advanced Technology and Development Techniques to rapidly develop and continuously deploy the systems we need to identify, track and reduce our emissions.\"\n",
      "}\n",
      "```\n"
     ]
    }
   ],
   "source": [
    "from langchain_core.prompts import PromptTemplate\n",
    "prompt_extract=PromptTemplate.from_template(\n",
    "        \"\"\" SCRAPED TEXT FROM WEBSITE:\n",
    "        {page_data}\n",
    "        ###INSTRUCTION:\n",
    "        The scraped text is from the career's page of website.\n",
    "        Your job is to extract the job posting and return them in JSON format containing the following key:\n",
    "        'role','experience','skills', and 'description'.\n",
    "        Only return the valid JSON inside,remove all data outside the json object\n",
    "        Extract only first object\n",
    "        ###VALID JSON(NO PREAMBLE):\n",
    "    \n",
    "            \"\"\"\n",
    ")\n",
    "chain_extract=prompt_extract|llm\n",
    "res=chain_extract.invoke(input={'page_data':page_data})\n",
    "print(res.content)"
   ]
  },
  {
   "cell_type": "code",
   "execution_count": 13,
   "id": "646d52e1-282f-4258-8266-e10754a667d1",
   "metadata": {},
   "outputs": [
    {
     "data": {
      "text/plain": [
       "{'role': 'Software Engineer - Python/PySpark/Data Engineer',\n",
       " 'experience': 'Not specified',\n",
       " 'skills': ['Python',\n",
       "  'PySpark',\n",
       "  'Great Expectations',\n",
       "  'Data Plane/ Pipe Dream',\n",
       "  'Elixir',\n",
       "  'Erlang',\n",
       "  'Ruby',\n",
       "  'Functional programming',\n",
       "  'Extreme programming practices',\n",
       "  'Test Driven Design'],\n",
       " 'description': 'The world is facing a climate emergency. At Maersk we see it as our obligation – as an industry leader in logistics and with the resources available to us – to do all we can to get to net zero operations as fast as possible and to help our customers decarbonize their global supply chains end to end. Our Energy Transition technology team is at the heart of this work, using Advanced Technology and Development Techniques to rapidly develop and continuously deploy the systems we need to identify, track and reduce our emissions.'}"
      ]
     },
     "execution_count": 13,
     "metadata": {},
     "output_type": "execute_result"
    }
   ],
   "source": [
    "from langchain_core.output_parsers import JsonOutputParser\n",
    "json_parser=JsonOutputParser()\n",
    "json_res=json_parser.parse(res.content)\n",
    "json_res"
   ]
  },
  {
   "cell_type": "code",
   "execution_count": 116,
   "id": "9e7e3c77-9fe3-40e5-902c-ceba11775a59",
   "metadata": {},
   "outputs": [
    {
     "data": {
      "text/plain": [
       "dict"
      ]
     },
     "execution_count": 116,
     "metadata": {},
     "output_type": "execute_result"
    }
   ],
   "source": [
    "type(json_res)"
   ]
  },
  {
   "cell_type": "code",
   "execution_count": 15,
   "id": "3e736bf0-5104-49f0-84fd-15d78373563e",
   "metadata": {},
   "outputs": [
    {
     "data": {
      "text/html": [
       "<div>\n",
       "<style scoped>\n",
       "    .dataframe tbody tr th:only-of-type {\n",
       "        vertical-align: middle;\n",
       "    }\n",
       "\n",
       "    .dataframe tbody tr th {\n",
       "        vertical-align: top;\n",
       "    }\n",
       "\n",
       "    .dataframe thead th {\n",
       "        text-align: right;\n",
       "    }\n",
       "</style>\n",
       "<table border=\"1\" class=\"dataframe\">\n",
       "  <thead>\n",
       "    <tr style=\"text-align: right;\">\n",
       "      <th></th>\n",
       "      <th>TechStack</th>\n",
       "      <th>Expertise</th>\n",
       "    </tr>\n",
       "  </thead>\n",
       "  <tbody>\n",
       "    <tr>\n",
       "      <th>0</th>\n",
       "      <td>Selenium+Java</td>\n",
       "      <td>10+ Years Extensive experience in Selenium wi...</td>\n",
       "    </tr>\n",
       "    <tr>\n",
       "      <th>1</th>\n",
       "      <td>API Testing,Postman,SoapUI</td>\n",
       "      <td>Strong experience of 8+ years in API testing, ...</td>\n",
       "    </tr>\n",
       "    <tr>\n",
       "      <th>2</th>\n",
       "      <td>API Automation</td>\n",
       "      <td>8+ years of extensive experience in API automa...</td>\n",
       "    </tr>\n",
       "    <tr>\n",
       "      <th>3</th>\n",
       "      <td>Mobile Testing,Mobile Automation,Appium</td>\n",
       "      <td>Developed Appium test scripts with Java, handl...</td>\n",
       "    </tr>\n",
       "    <tr>\n",
       "      <th>4</th>\n",
       "      <td>DevOps,Cloud, AWS,Azure</td>\n",
       "      <td>Worked on CI/CD pipeline integration for test ...</td>\n",
       "    </tr>\n",
       "    <tr>\n",
       "      <th>5</th>\n",
       "      <td>CI/CD,Jenkins,Gitlab,Git</td>\n",
       "      <td>Worked on configuring automated test execution...</td>\n",
       "    </tr>\n",
       "    <tr>\n",
       "      <th>6</th>\n",
       "      <td>Python and Pytest</td>\n",
       "      <td>Experience in  Python and Pytest for test auto...</td>\n",
       "    </tr>\n",
       "    <tr>\n",
       "      <th>7</th>\n",
       "      <td>SQL,MySQL,POSTGreSQL</td>\n",
       "      <td>Experience in writing complex queries, perform...</td>\n",
       "    </tr>\n",
       "    <tr>\n",
       "      <th>8</th>\n",
       "      <td>AI,LLM</td>\n",
       "      <td>I have recent experience in working with Large...</td>\n",
       "    </tr>\n",
       "  </tbody>\n",
       "</table>\n",
       "</div>"
      ],
      "text/plain": [
       "                                 TechStack  \\\n",
       "0                            Selenium+Java   \n",
       "1               API Testing,Postman,SoapUI   \n",
       "2                           API Automation   \n",
       "3  Mobile Testing,Mobile Automation,Appium   \n",
       "4                  DevOps,Cloud, AWS,Azure   \n",
       "5                CI/CD,Jenkins,Gitlab,Git    \n",
       "6                        Python and Pytest   \n",
       "7                     SQL,MySQL,POSTGreSQL   \n",
       "8                                   AI,LLM   \n",
       "\n",
       "                                           Expertise  \n",
       "0   10+ Years Extensive experience in Selenium wi...  \n",
       "1  Strong experience of 8+ years in API testing, ...  \n",
       "2  8+ years of extensive experience in API automa...  \n",
       "3  Developed Appium test scripts with Java, handl...  \n",
       "4  Worked on CI/CD pipeline integration for test ...  \n",
       "5  Worked on configuring automated test execution...  \n",
       "6  Experience in  Python and Pytest for test auto...  \n",
       "7  Experience in writing complex queries, perform...  \n",
       "8  I have recent experience in working with Large...  "
      ]
     },
     "execution_count": 15,
     "metadata": {},
     "output_type": "execute_result"
    }
   ],
   "source": [
    "import pandas as pd\n",
    "df=pd.read_csv(\"skills.csv\")\n",
    "df"
   ]
  },
  {
   "cell_type": "code",
   "execution_count": 16,
   "id": "61a8ab2c-c1d8-4d3d-aa27-ab962a2b9f2e",
   "metadata": {},
   "outputs": [],
   "source": [
    "import uuid\n",
    "import chromadb\n",
    "client=chromadb.PersistentClient('vectorstoreNew')\n",
    "collection=client.get_or_create_collection(name='portfolio')\n",
    "\n",
    "if not collection.count():\n",
    "    for _,row in df.iterrows():\n",
    "        collection.add(documents=row[\"TechStack\"],\n",
    "                       metadatas={\"Expertise\":row[\"Expertise\"]},\n",
    "                       ids=[str(uuid.uuid4())])"
   ]
  },
  {
   "cell_type": "code",
   "execution_count": 17,
   "id": "5c3f9ee0-84da-459a-9373-5575bdb7db48",
   "metadata": {},
   "outputs": [
    {
     "data": {
      "text/plain": [
       "['Python',\n",
       " 'PySpark',\n",
       " 'Great Expectations',\n",
       " 'Data Plane/ Pipe Dream',\n",
       " 'Elixir',\n",
       " 'Erlang',\n",
       " 'Ruby',\n",
       " 'Functional programming',\n",
       " 'Extreme programming practices',\n",
       " 'Test Driven Design']"
      ]
     },
     "execution_count": 17,
     "metadata": {},
     "output_type": "execute_result"
    }
   ],
   "source": [
    "job=json_res\n",
    "job['skills']"
   ]
  },
  {
   "cell_type": "code",
   "execution_count": 18,
   "id": "2bb91593-302a-41d1-8d96-3f234bed1a2d",
   "metadata": {},
   "outputs": [
    {
     "data": {
      "text/plain": [
       "[[{'Expertise': 'Experience in  Python and Pytest for test automation, specializing in API and backend testing. My  expertise includes writing scalable test scripts, implementing fixtures, parameterization, integrating with CI/CD pipelines'}],\n",
       " [{'Expertise': 'Experience in  Python and Pytest for test automation, specializing in API and backend testing. My  expertise includes writing scalable test scripts, implementing fixtures, parameterization, integrating with CI/CD pipelines'}],\n",
       " [{'Expertise': 'I have recent experience in working with Large Language Models (LLMs) to create apps for automated email generation. This includes designing and implementing solutions that use LLMs to generate contextually relevant emails'}],\n",
       " [{'Expertise': 'Experience in writing complex queries, performing database validation, data manipulation, joins, indexing, and optimizing queries for test automation.Worked on database testing to validate backend data integrity and ensure seamless application performance'}],\n",
       " [{'Expertise': 'I have recent experience in working with Large Language Models (LLMs) to create apps for automated email generation. This includes designing and implementing solutions that use LLMs to generate contextually relevant emails'}],\n",
       " [{'Expertise': 'I have recent experience in working with Large Language Models (LLMs) to create apps for automated email generation. This includes designing and implementing solutions that use LLMs to generate contextually relevant emails'}],\n",
       " [{'Expertise': 'Experience in writing complex queries, performing database validation, data manipulation, joins, indexing, and optimizing queries for test automation.Worked on database testing to validate backend data integrity and ensure seamless application performance'}],\n",
       " [{'Expertise': 'Experience in writing complex queries, performing database validation, data manipulation, joins, indexing, and optimizing queries for test automation.Worked on database testing to validate backend data integrity and ensure seamless application performance'}],\n",
       " [{'Expertise': 'Worked on configuring automated test execution in pipelines, integrating Selenium and API tests with CI/CD workflows, managing version control with Git, and optimizing build and deployment processes for continuous testing.'}],\n",
       " [{'Expertise': 'Developed Appium test scripts with Java, handling mobile gestures, working with real devices and emulators, integrating with CI/CD pipelines, and performing cross-platform testing to ensure app stability and performance.'}]]"
      ]
     },
     "execution_count": 18,
     "metadata": {},
     "output_type": "execute_result"
    }
   ],
   "source": [
    "links=collection.query(query_texts=job['skills'],n_results=1).get('metadatas')\n",
    "links"
   ]
  },
  {
   "cell_type": "code",
   "execution_count": 19,
   "id": "417fae35-52e5-4efe-ae71-df0c726e4475",
   "metadata": {},
   "outputs": [
    {
     "name": "stdout",
     "output_type": "stream",
     "text": [
      "Subject: Expert Automation Tester for Energy Transition Technology Team\n",
      "\n",
      "Dear Hiring Manager,\n",
      "\n",
      "I am excited to apply for the Software Engineer - Python/PySpark/Data Engineer position at Maersk, where I can leverage my 11+ years of experience in test automation to contribute to the company's net-zero operations goal. With a strong background in designing and implementing test automation strategies across web, mobile, and cloud-based applications, I am confident in my ability to support the Energy Transition technology team.\n",
      "\n",
      "My expertise includes experience in Python and Pytest for test automation, specializing in API and backend testing. I have written scalable test scripts, implemented fixtures, parameterization, and integrated with CI/CD pipelines. Additionally, I have recent experience working with Large Language Models (LLMs) to create apps for automated email generation, which can be applied to enhance the team's productivity.\n",
      "\n",
      "I am particularly drawn to this role because of the emphasis on using Advanced Technology and Development Techniques to rapidly develop and deploy systems that identify, track, and reduce emissions. My experience in writing complex queries, performing database validation, data manipulation, joins, indexing, and optimizing queries for test automation will enable me to make a significant contribution to the team.\n",
      "\n",
      "As a seasoned automation tester, I have worked on configuring automated test execution in pipelines, integrating Selenium and API tests with CI/CD workflows, managing version control with Git, and optimizing build and deployment processes for continuous testing. I am excited about the opportunity to bring my skills and experience to Maersk and contribute to the company's mission to decarbonize global supply chains.\n",
      "\n",
      "I would welcome the opportunity to discuss my application and how my skills and experience align with the requirements of the role. Please do not hesitate to contact me if you require any additional information.\n",
      "\n",
      "Thank you for considering my application.\n",
      "\n",
      "Best regards,\n",
      "Sushree\n",
      "Senior Automation Test Engineer at Boeing\n"
     ]
    }
   ],
   "source": [
    "\n",
    "prompt_email=PromptTemplate.from_template(\n",
    "        \"\"\"\n",
    "        ### JOB Description:\n",
    "        {job_description}\n",
    "        \n",
    "        ###INSTRUCTION:\n",
    "        You are Sushree, a test automation engineer currently working with Boeing.You are a result driven automation tester with 11+ years of experience in\n",
    "        frontend and backend test automation,mobile,performance and api testing.Skilled in designing and implementing test automation\n",
    "        stratergies across web,mobile and cloud based application.Currently enhancing your skills in LLM.\n",
    "        Your job is to write a cold email to the client regarding the job mentioned above in fulfiling their needs for automation tester recruitement.\n",
    "        Also add the most relevent once from the following expertise to showcase your experience: {links}\n",
    "        Remember you are Sushree, Senior Automation Test Engineer at Boeing.\n",
    "        Do not provide a preamble\n",
    "        ### EMAIL (NO PREAMBLE)\n",
    "            \"\"\"\n",
    ")\n",
    "chain_email=prompt_email|llm\n",
    "res=chain_email.invoke({\"job_description\":str(job),\"links\":links})\n",
    "print(res.content)"
   ]
  },
  {
   "cell_type": "code",
   "execution_count": null,
   "id": "862d9004-e1ce-4d5b-8cd1-758d14989b3a",
   "metadata": {},
   "outputs": [],
   "source": []
  }
 ],
 "metadata": {
  "kernelspec": {
   "display_name": "Python 3 (ipykernel)",
   "language": "python",
   "name": "python3"
  },
  "language_info": {
   "codemirror_mode": {
    "name": "ipython",
    "version": 3
   },
   "file_extension": ".py",
   "mimetype": "text/x-python",
   "name": "python",
   "nbconvert_exporter": "python",
   "pygments_lexer": "ipython3",
   "version": "3.13.2"
  }
 },
 "nbformat": 4,
 "nbformat_minor": 5
}
